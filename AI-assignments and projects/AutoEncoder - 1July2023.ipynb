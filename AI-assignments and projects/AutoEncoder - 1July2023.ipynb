{
 "cells": [
  {
   "cell_type": "code",
   "execution_count": 1,
   "metadata": {},
   "outputs": [],
   "source": [
    "from tensorflow.keras.layers import Input, Dense\n",
    "from tensorflow.keras.models import Sequential\n",
    "from tensorflow.keras.datasets import mnist\n",
    "import matplotlib.pyplot as plt"
   ]
  },
  {
   "cell_type": "code",
   "execution_count": 26,
   "metadata": {},
   "outputs": [],
   "source": [
    "(x_train,_),(x_test, _) = mnist.load_data()"
   ]
  },
  {
   "cell_type": "code",
   "execution_count": 27,
   "metadata": {},
   "outputs": [],
   "source": [
    "x_train = x_train.reshape(-1, 784)\n",
    "x_test = x_test.reshape(-1, 784)"
   ]
  },
  {
   "cell_type": "code",
   "execution_count": 28,
   "metadata": {},
   "outputs": [],
   "source": [
    "model = Sequential()\n",
    "model.add(Input(shape=(784,))) # Input\n",
    "model.add(Dense(350, activation=\"relu\")) # HL\n",
    "model.add(Dense(100, activation=\"relu\")) # Code\n",
    "model.add(Dense(350, activation=\"relu\")) # HL\n",
    "model.add(Dense(784)) # Output"
   ]
  },
  {
   "cell_type": "code",
   "execution_count": 29,
   "metadata": {},
   "outputs": [],
   "source": [
    "model.compile(optimizer=\"adam\",\n",
    "              loss=\"mean_squared_error\")"
   ]
  },
  {
   "cell_type": "code",
   "execution_count": 30,
   "metadata": {},
   "outputs": [
    {
     "name": "stdout",
     "output_type": "stream",
     "text": [
      "Epoch 1/50\n",
      "60/60 [==============================] - 2s 40ms/step - loss: 3678.3547 - val_loss: 2182.9600\n",
      "Epoch 2/50\n",
      "60/60 [==============================] - 2s 38ms/step - loss: 1668.8956 - val_loss: 1283.4760\n",
      "Epoch 3/50\n",
      "60/60 [==============================] - 2s 38ms/step - loss: 1155.6670 - val_loss: 1010.6626\n",
      "Epoch 4/50\n",
      "60/60 [==============================] - 2s 38ms/step - loss: 959.6678 - val_loss: 879.5154\n",
      "Epoch 5/50\n",
      "60/60 [==============================] - 2s 37ms/step - loss: 860.0527 - val_loss: 800.4016\n",
      "Epoch 6/50\n",
      "60/60 [==============================] - 2s 41ms/step - loss: 801.2492 - val_loss: 756.4766\n",
      "Epoch 7/50\n",
      "60/60 [==============================] - 2s 41ms/step - loss: 761.5110 - val_loss: 725.2009\n",
      "Epoch 8/50\n",
      "60/60 [==============================] - 2s 38ms/step - loss: 729.6742 - val_loss: 709.4338\n",
      "Epoch 9/50\n",
      "60/60 [==============================] - 2s 39ms/step - loss: 707.7084 - val_loss: 678.5705\n",
      "Epoch 10/50\n",
      "60/60 [==============================] - 2s 39ms/step - loss: 690.4740 - val_loss: 664.0480\n",
      "Epoch 11/50\n",
      "60/60 [==============================] - 2s 39ms/step - loss: 681.0167 - val_loss: 656.0098\n",
      "Epoch 12/50\n",
      "60/60 [==============================] - 2s 39ms/step - loss: 669.6840 - val_loss: 642.4747\n",
      "Epoch 13/50\n",
      "60/60 [==============================] - 2s 39ms/step - loss: 661.1931 - val_loss: 634.3820\n",
      "Epoch 14/50\n",
      "60/60 [==============================] - 2s 40ms/step - loss: 649.9204 - val_loss: 626.7534\n",
      "Epoch 15/50\n",
      "60/60 [==============================] - 2s 40ms/step - loss: 645.9404 - val_loss: 622.4631\n",
      "Epoch 16/50\n",
      "60/60 [==============================] - 2s 40ms/step - loss: 634.8936 - val_loss: 615.3234\n",
      "Epoch 17/50\n",
      "60/60 [==============================] - 2s 40ms/step - loss: 630.2275 - val_loss: 609.7324\n",
      "Epoch 18/50\n",
      "60/60 [==============================] - 2s 40ms/step - loss: 623.4080 - val_loss: 603.2308\n",
      "Epoch 19/50\n",
      "60/60 [==============================] - 2s 40ms/step - loss: 619.1404 - val_loss: 601.3875\n",
      "Epoch 20/50\n",
      "60/60 [==============================] - 3s 42ms/step - loss: 614.3000 - val_loss: 604.0232\n",
      "Epoch 21/50\n",
      "60/60 [==============================] - 3s 44ms/step - loss: 609.5736 - val_loss: 587.9568\n",
      "Epoch 22/50\n",
      "60/60 [==============================] - 3s 42ms/step - loss: 600.8329 - val_loss: 581.5540\n",
      "Epoch 23/50\n",
      "60/60 [==============================] - 3s 42ms/step - loss: 597.8542 - val_loss: 576.1799\n",
      "Epoch 24/50\n",
      "60/60 [==============================] - 2s 39ms/step - loss: 598.8302 - val_loss: 577.9861\n",
      "Epoch 25/50\n",
      "60/60 [==============================] - 2s 40ms/step - loss: 593.3495 - val_loss: 573.4656\n",
      "Epoch 26/50\n",
      "60/60 [==============================] - 2s 41ms/step - loss: 588.5203 - val_loss: 577.3821\n",
      "Epoch 27/50\n",
      "60/60 [==============================] - 2s 39ms/step - loss: 581.6838 - val_loss: 607.4861\n",
      "Epoch 28/50\n",
      "60/60 [==============================] - 2s 38ms/step - loss: 580.5225 - val_loss: 580.0461\n",
      "Epoch 29/50\n",
      "60/60 [==============================] - 2s 39ms/step - loss: 582.3240 - val_loss: 564.6825\n",
      "Epoch 30/50\n",
      "60/60 [==============================] - 2s 38ms/step - loss: 573.7389 - val_loss: 562.4673\n",
      "Epoch 31/50\n",
      "60/60 [==============================] - 2s 38ms/step - loss: 572.7074 - val_loss: 555.8403\n",
      "Epoch 32/50\n",
      "60/60 [==============================] - 2s 39ms/step - loss: 569.2748 - val_loss: 550.2321\n",
      "Epoch 33/50\n",
      "60/60 [==============================] - 2s 40ms/step - loss: 565.4113 - val_loss: 556.1083\n",
      "Epoch 34/50\n",
      "60/60 [==============================] - 2s 40ms/step - loss: 564.7094 - val_loss: 569.2560\n",
      "Epoch 35/50\n",
      "60/60 [==============================] - 2s 39ms/step - loss: 564.3290 - val_loss: 585.8707\n",
      "Epoch 36/50\n",
      "60/60 [==============================] - 2s 39ms/step - loss: 559.6397 - val_loss: 549.1157\n",
      "Epoch 37/50\n",
      "60/60 [==============================] - 2s 38ms/step - loss: 554.6046 - val_loss: 535.1274\n",
      "Epoch 38/50\n",
      "60/60 [==============================] - 3s 44ms/step - loss: 549.1921 - val_loss: 531.3205\n",
      "Epoch 39/50\n",
      "60/60 [==============================] - 3s 43ms/step - loss: 547.4064 - val_loss: 528.2692\n",
      "Epoch 40/50\n",
      "60/60 [==============================] - 2s 39ms/step - loss: 547.5061 - val_loss: 525.3659\n",
      "Epoch 41/50\n",
      "60/60 [==============================] - 2s 41ms/step - loss: 544.9185 - val_loss: 522.7194\n",
      "Epoch 42/50\n",
      "60/60 [==============================] - 2s 41ms/step - loss: 538.0933 - val_loss: 528.3868\n",
      "Epoch 43/50\n",
      "60/60 [==============================] - 2s 41ms/step - loss: 537.7499 - val_loss: 534.9432\n",
      "Epoch 44/50\n",
      "60/60 [==============================] - 3s 43ms/step - loss: 535.3917 - val_loss: 534.6401\n",
      "Epoch 45/50\n",
      "60/60 [==============================] - 3s 44ms/step - loss: 532.0218 - val_loss: 520.5378\n",
      "Epoch 46/50\n",
      "60/60 [==============================] - 3s 42ms/step - loss: 531.8191 - val_loss: 515.3356\n",
      "Epoch 47/50\n",
      "60/60 [==============================] - 3s 44ms/step - loss: 528.3920 - val_loss: 510.1531\n",
      "Epoch 48/50\n",
      "60/60 [==============================] - 2s 41ms/step - loss: 525.7776 - val_loss: 506.0606\n",
      "Epoch 49/50\n",
      "60/60 [==============================] - 2s 37ms/step - loss: 528.6291 - val_loss: 505.6247\n",
      "Epoch 50/50\n",
      "60/60 [==============================] - 2s 38ms/step - loss: 518.8046 - val_loss: 505.2663\n"
     ]
    },
    {
     "data": {
      "text/plain": [
       "<tensorflow.python.keras.callbacks.History at 0x21edc90e0a0>"
      ]
     },
     "execution_count": 30,
     "metadata": {},
     "output_type": "execute_result"
    }
   ],
   "source": [
    "model.fit(x=x_train, \n",
    "          y=x_train,\n",
    "          epochs=50,\n",
    "          batch_size=1000,\n",
    "          validation_data = (x_test, x_test))"
   ]
  },
  {
   "cell_type": "code",
   "execution_count": 10,
   "metadata": {},
   "outputs": [
    {
     "name": "stdout",
     "output_type": "stream",
     "text": [
      "Model: \"sequential_1\"\n",
      "_________________________________________________________________\n",
      "Layer (type)                 Output Shape              Param #   \n",
      "=================================================================\n",
      "dense_2 (Dense)              (None, 100)               78500     \n",
      "_________________________________________________________________\n",
      "dense_3 (Dense)              (None, 784)               79184     \n",
      "=================================================================\n",
      "Total params: 157,684\n",
      "Trainable params: 157,684\n",
      "Non-trainable params: 0\n",
      "_________________________________________________________________\n"
     ]
    }
   ],
   "source": [
    "model.summary()"
   ]
  },
  {
   "cell_type": "code",
   "execution_count": 11,
   "metadata": {},
   "outputs": [
    {
     "data": {
      "text/plain": [
       "[<tensorflow.python.keras.layers.core.Dense at 0x21edc394fa0>,\n",
       " <tensorflow.python.keras.layers.core.Dense at 0x21edc39aaf0>]"
      ]
     },
     "execution_count": 11,
     "metadata": {},
     "output_type": "execute_result"
    }
   ],
   "source": [
    "model.layers"
   ]
  },
  {
   "attachments": {},
   "cell_type": "markdown",
   "metadata": {},
   "source": [
    "### Encoder"
   ]
  },
  {
   "cell_type": "code",
   "execution_count": 12,
   "metadata": {},
   "outputs": [],
   "source": [
    "encoder = Sequential()\n",
    "for layer in model.layers[:1]:\n",
    "    encoder.add(layer)"
   ]
  },
  {
   "cell_type": "code",
   "execution_count": 14,
   "metadata": {},
   "outputs": [],
   "source": [
    "encoder.build(input_shape=(None,784))"
   ]
  },
  {
   "cell_type": "code",
   "execution_count": 15,
   "metadata": {},
   "outputs": [
    {
     "name": "stdout",
     "output_type": "stream",
     "text": [
      "Model: \"sequential_2\"\n",
      "_________________________________________________________________\n",
      "Layer (type)                 Output Shape              Param #   \n",
      "=================================================================\n",
      "dense_2 (Dense)              (None, 100)               78500     \n",
      "=================================================================\n",
      "Total params: 78,500\n",
      "Trainable params: 78,500\n",
      "Non-trainable params: 0\n",
      "_________________________________________________________________\n"
     ]
    }
   ],
   "source": [
    "encoder.summary()"
   ]
  },
  {
   "attachments": {},
   "cell_type": "markdown",
   "metadata": {},
   "source": [
    "### Decoder"
   ]
  },
  {
   "cell_type": "code",
   "execution_count": 16,
   "metadata": {},
   "outputs": [
    {
     "name": "stdout",
     "output_type": "stream",
     "text": [
      "Model: \"sequential_3\"\n",
      "_________________________________________________________________\n",
      "Layer (type)                 Output Shape              Param #   \n",
      "=================================================================\n",
      "dense_3 (Dense)              (None, 784)               79184     \n",
      "=================================================================\n",
      "Total params: 79,184\n",
      "Trainable params: 79,184\n",
      "Non-trainable params: 0\n",
      "_________________________________________________________________\n"
     ]
    }
   ],
   "source": [
    "decoder = Sequential()\n",
    "for layer in model.layers[1:]:\n",
    "    decoder.add(layer)\n",
    "\n",
    "decoder.build(input_shape=(None,100))\n",
    "decoder.summary()"
   ]
  },
  {
   "attachments": {},
   "cell_type": "markdown",
   "metadata": {},
   "source": [
    "### Testing Encoder and Decoder"
   ]
  },
  {
   "cell_type": "code",
   "execution_count": 19,
   "metadata": {},
   "outputs": [
    {
     "data": {
      "image/png": "[encoded data removed]",
      "text/plain": [
       "<Figure size 640x480 with 1 Axes>"
      ]
     },
     "metadata": {},
     "output_type": "display_data"
    }
   ],
   "source": [
    "# Original Image\n",
    "plt.imshow(x_test[10].reshape(28,28), cmap=\"gray\")\n",
    "plt.show()"
   ]
  },
  {
   "cell_type": "code",
   "execution_count": null,
   "metadata": {},
   "outputs": [],
   "source": []
  },
  {
   "cell_type": "code",
   "execution_count": 21,
   "metadata": {},
   "outputs": [
    {
     "data": {
      "text/plain": [
       "(100,)"
      ]
     },
     "execution_count": 21,
     "metadata": {},
     "output_type": "execute_result"
    }
   ],
   "source": [
    "# Get Compressed Representation\n",
    "\n",
    "code = encoder.predict(x_test)\n",
    "code[10].shape"
   ]
  },
  {
   "cell_type": "code",
   "execution_count": 22,
   "metadata": {},
   "outputs": [],
   "source": [
    "# De Compress this Representation using Decoder\n",
    "\n",
    "x_test_reconstructed = decoder.predict(code)"
   ]
  },
  {
   "cell_type": "code",
   "execution_count": 24,
   "metadata": {},
   "outputs": [
    {
     "data": {
      "text/plain": [
       "(784,)"
      ]
     },
     "execution_count": 24,
     "metadata": {},
     "output_type": "execute_result"
    }
   ],
   "source": [
    "x_test_reconstructed[10].shape"
   ]
  },
  {
   "cell_type": "code",
   "execution_count": 25,
   "metadata": {},
   "outputs": [
    {
     "data": {
      "image/png": "[encoded data removed]",
      "text/plain": [
       "<Figure size 640x480 with 1 Axes>"
      ]
     },
     "metadata": {},
     "output_type": "display_data"
    }
   ],
   "source": [
    "# Reconstructed Image\n",
    "plt.imshow(x_test_reconstructed[10].reshape(28,28), cmap=\"gray\")\n",
    "plt.show()"
   ]
  }
 ],
 "metadata": {
  "kernelspec": {
   "display_name": "tf",
   "language": "python",
   "name": "python3"
  },
  "language_info": {
   "codemirror_mode": {
    "name": "ipython",
    "version": 3
   },
   "file_extension": ".py",
   "mimetype": "text/x-python",
   "name": "python",
   "nbconvert_exporter": "python",
   "pygments_lexer": "ipython3",
   "version": "3.8.8"
  },
  "orig_nbformat": 4
 },
 "nbformat": 4,
 "nbformat_minor": 2
}
